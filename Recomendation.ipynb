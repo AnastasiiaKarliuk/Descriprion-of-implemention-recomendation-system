{
 "cells": [
  {
   "cell_type": "markdown",
   "metadata": {},
   "source": [
    "# Item-similarity"
   ]
  },
  {
   "cell_type": "code",
   "execution_count": 1,
   "metadata": {},
   "outputs": [],
   "source": [
    "import pandas as pd\n",
    "from sklearn.preprocessing import LabelEncoder\n",
    "from scipy.sparse import coo_matrix\n",
    "from scipy.sparse.linalg import svds\n",
    "from sklearn.neighbors import NearestNeighbors\n",
    "\n",
    "\n",
    "def similarity_matrix(input_df, k_nn = 5):\n",
    "    enc = LabelEncoder()\n",
    "    enc = enc.fit(input_df.iloc[:, 0].values)\n",
    "    input_df.iloc[:, 0] = enc.transform(input_df.iloc[:, 0].values)\n",
    "\n",
    "    enc = enc.fit(input_df.iloc[:, 1].values)\n",
    "    input_df.iloc[:, 1] = enc.transform(input_df.iloc[:, 1].values)\n",
    "\n",
    "    R = coo_matrix((input_df.iloc[:, 2].values, (input_df.iloc[:, 0].values, input_df.iloc[:, 1].values))).asfptype()\n",
    "    u, s, vt = svds(R, k=k_nn)\n",
    "    \n",
    "    nn = NearestNeighbors(n_neighbors=k_nn)\n",
    "    nn.fit(vt.T)\n",
    "    _, idn = nn.kneighbors(vt.T, n_neighbors=k_nn)\n",
    "    return idn\n",
    "\n",
    "\n",
    "def table_related_names(df_input, matrix, k_nn=5):\n",
    "    titles = df_input.sort_values(df_input.columns[0]).iloc[:, 1].values\n",
    "    cols = ['Name']+['related_{}'.format(i) for i in range(1, k_nn)]\n",
    "    result = pd.DataFrame(data=titles[matrix], columns=cols)\n",
    "    return result\n"
   ]
  },
  {
   "cell_type": "code",
   "execution_count": 2,
   "metadata": {},
   "outputs": [
    {
     "data": {
      "text/html": [
       "<div>\n",
       "<style scoped>\n",
       "    .dataframe tbody tr th:only-of-type {\n",
       "        vertical-align: middle;\n",
       "    }\n",
       "\n",
       "    .dataframe tbody tr th {\n",
       "        vertical-align: top;\n",
       "    }\n",
       "\n",
       "    .dataframe thead th {\n",
       "        text-align: right;\n",
       "    }\n",
       "</style>\n",
       "<table border=\"1\" class=\"dataframe\">\n",
       "  <thead>\n",
       "    <tr style=\"text-align: right;\">\n",
       "      <th></th>\n",
       "      <th>Name</th>\n",
       "      <th>related_1</th>\n",
       "      <th>related_2</th>\n",
       "      <th>related_3</th>\n",
       "      <th>related_4</th>\n",
       "    </tr>\n",
       "  </thead>\n",
       "  <tbody>\n",
       "    <tr>\n",
       "      <th>0</th>\n",
       "      <td>50 Second to Mars</td>\n",
       "      <td>Ariana Grande</td>\n",
       "      <td>Pentatonix</td>\n",
       "      <td>some 8</td>\n",
       "      <td>word 9</td>\n",
       "    </tr>\n",
       "    <tr>\n",
       "      <th>1</th>\n",
       "      <td>Ariana Grande</td>\n",
       "      <td>50 Second to Mars</td>\n",
       "      <td>Pentatonix</td>\n",
       "      <td>some 8</td>\n",
       "      <td>word 9</td>\n",
       "    </tr>\n",
       "    <tr>\n",
       "      <th>2</th>\n",
       "      <td>Imagine Dragons</td>\n",
       "      <td>50 Second to Mars</td>\n",
       "      <td>Pentatonix</td>\n",
       "      <td>some 8</td>\n",
       "      <td>Ariana Grande</td>\n",
       "    </tr>\n",
       "    <tr>\n",
       "      <th>3</th>\n",
       "      <td>Antitela</td>\n",
       "      <td>50 Second to Mars</td>\n",
       "      <td>Pentatonix</td>\n",
       "      <td>some 8</td>\n",
       "      <td>Ariana Grande</td>\n",
       "    </tr>\n",
       "    <tr>\n",
       "      <th>4</th>\n",
       "      <td>Pentatonix</td>\n",
       "      <td>some 8</td>\n",
       "      <td>50 Second to Mars</td>\n",
       "      <td>Ariana Grande</td>\n",
       "      <td>Antitela</td>\n",
       "    </tr>\n",
       "    <tr>\n",
       "      <th>5</th>\n",
       "      <td>some 8</td>\n",
       "      <td>Pentatonix</td>\n",
       "      <td>50 Second to Mars</td>\n",
       "      <td>word 9</td>\n",
       "      <td>Ariana Grande</td>\n",
       "    </tr>\n",
       "    <tr>\n",
       "      <th>6</th>\n",
       "      <td>word 9</td>\n",
       "      <td>50 Second to Mars</td>\n",
       "      <td>some 8</td>\n",
       "      <td>Ariana Grande</td>\n",
       "      <td>Pentatonix</td>\n",
       "    </tr>\n",
       "  </tbody>\n",
       "</table>\n",
       "</div>"
      ],
      "text/plain": [
       "                Name          related_1          related_2      related_3  \\\n",
       "0  50 Second to Mars      Ariana Grande         Pentatonix         some 8   \n",
       "1      Ariana Grande  50 Second to Mars         Pentatonix         some 8   \n",
       "2    Imagine Dragons  50 Second to Mars         Pentatonix         some 8   \n",
       "3           Antitela  50 Second to Mars         Pentatonix         some 8   \n",
       "4         Pentatonix             some 8  50 Second to Mars  Ariana Grande   \n",
       "5             some 8         Pentatonix  50 Second to Mars         word 9   \n",
       "6             word 9  50 Second to Mars             some 8  Ariana Grande   \n",
       "\n",
       "       related_4  \n",
       "0         word 9  \n",
       "1         word 9  \n",
       "2  Ariana Grande  \n",
       "3  Ariana Grande  \n",
       "4       Antitela  \n",
       "5  Ariana Grande  \n",
       "6     Pentatonix  "
      ]
     },
     "execution_count": 2,
     "metadata": {},
     "output_type": "execute_result"
    }
   ],
   "source": [
    "df_rates = pd.read_csv('data/rates.csv')\n",
    "df_bands = pd.read_csv('data/bands.csv')\n",
    "\n",
    "similarity_matrix(df_rates)\n",
    "table_related_names(df_bands, similarity_matrix(df_rates))"
   ]
  },
  {
   "cell_type": "markdown",
   "metadata": {},
   "source": [
    "# User-similatity"
   ]
  },
  {
   "cell_type": "code",
   "execution_count": 3,
   "metadata": {},
   "outputs": [
    {
     "data": {
      "text/plain": [
       "array([[0.        , 0.        , 1.        , 0.        , 1.        ,\n",
       "        0.24987802, 1.        ],\n",
       "       [0.        , 0.        , 0.        , 1.        , 1.        ,\n",
       "        0.        , 0.        ],\n",
       "       [1.        , 0.        , 0.        , 1.        , 1.        ,\n",
       "        1.        , 0.        ],\n",
       "       [0.        , 1.        , 1.        , 0.        , 0.90582163,\n",
       "        0.        , 0.        ],\n",
       "       [1.        , 1.        , 1.        , 0.90582163, 0.        ,\n",
       "        1.        , 1.        ],\n",
       "       [0.24987802, 0.        , 1.        , 0.        , 1.        ,\n",
       "        0.        , 1.        ],\n",
       "       [1.        , 0.        , 0.        , 0.        , 1.        ,\n",
       "        1.        , 0.        ]])"
      ]
     },
     "execution_count": 3,
     "metadata": {},
     "output_type": "execute_result"
    }
   ],
   "source": [
    "from scipy.spatial.distance import cosine, pdist, squareform\n",
    "import numpy as np\n",
    "\n",
    "\n",
    "def similarity(u, v):\n",
    "    idx = (u != 0) & (v != 0)\n",
    "    if np.any(idx):\n",
    "        sim = -cosine(u[idx], v[idx])+1\n",
    "        return sim\n",
    "    else:\n",
    "        return 0\n",
    "\n",
    "\n",
    "def user_similarity(input_df):    \n",
    "    R = coo_matrix((input_df.iloc[:, 2].values, (input_df.iloc[:, 0].values, input_df.iloc[:, 1].values))).asfptype()\n",
    "    res = pdist(R.toarray(), similarity)\n",
    "    return squareform(res)\n",
    "\n",
    "\n",
    "user_similarity(df_rates)"
   ]
  },
  {
   "cell_type": "markdown",
   "metadata": {},
   "source": [
    "# Turicreate models"
   ]
  },
  {
   "cell_type": "code",
   "execution_count": 19,
   "metadata": {},
   "outputs": [],
   "source": [
    "import turicreate as tc\n",
    "from sklearn.model_selection import train_test_split\n",
    "import sys\n",
    "\n",
    "\n",
    "def normalize_data(data):\n",
    "    cols = data.columns\n",
    "    df_matrix = pd.pivot_table(data, values=cols[2], index=cols[0], columns=cols[1])\n",
    "    df_matrix_norm = (df_matrix-df_matrix.min())/(df_matrix.max()-df_matrix.min())\n",
    "    \n",
    "    d = df_matrix_norm.reset_index() \n",
    "    d.index.names = [cols[2]+'-norm']\n",
    "\n",
    "    data_norm = pd.melt(d, id_vars=[cols[0]], value_name=cols[2]).dropna()\n",
    "    return data_norm\n",
    "\n",
    "\n",
    "def split_data(data):\n",
    "    train, test = train_test_split(data, test_size = .2)\n",
    "    return train, test\n",
    "\n",
    "\n",
    "def model(train_data, name, user_id, item_id, target, users_to_recommend, n_rec, n_display):\n",
    "    if name == 'popularity':\n",
    "        model = tc.popularity_recommender.create(train_data, user_id=user_id, item_id=item_id, target=target)\n",
    "        \n",
    "    elif name == 'cosine':\n",
    "        model = tc.item_similarity_recommender.create(train_data, user_id=user_id, item_id=item_id, target=target, \n",
    "                                                      similarity_type='cosine')\n",
    "    elif name == 'pearson':\n",
    "        model = tc.item_similarity_recommender.create(train_data, user_id=user_id, item_id=item_id, target=target, \n",
    "                                                    similarity_type='pearson')\n",
    "    recom = model.recommend(users=users_to_recommend, k=n_rec)\n",
    "    recom.print_rows(n_display)\n",
    "    return model\n",
    "\n",
    "\n",
    "def modeling (data, method='popularity', n_rec = 5, n_display = 15):\n",
    "    cols = data.columns\n",
    "    users_to_recommend = list(set(data[cols[0]]))\n",
    "    data = tc.SFrame(data)\n",
    "    m = model(data, method, cols[0], cols[1], cols[2], users_to_recommend, n_rec, n_display)\n",
    "    return m"
   ]
  },
  {
   "cell_type": "code",
   "execution_count": 20,
   "metadata": {
    "scrolled": false
   },
   "outputs": [
    {
     "data": {
      "text/html": [
       "<pre>Preparing data set.</pre>"
      ],
      "text/plain": [
       "Preparing data set."
      ]
     },
     "metadata": {},
     "output_type": "display_data"
    },
    {
     "data": {
      "text/html": [
       "<pre>    Data has 13 observations with 6 users and 6 items.</pre>"
      ],
      "text/plain": [
       "    Data has 13 observations with 6 users and 6 items."
      ]
     },
     "metadata": {},
     "output_type": "display_data"
    },
    {
     "data": {
      "text/html": [
       "<pre>    Data prepared in: 0.003752s</pre>"
      ],
      "text/plain": [
       "    Data prepared in: 0.003752s"
      ]
     },
     "metadata": {},
     "output_type": "display_data"
    },
    {
     "data": {
      "text/html": [
       "<pre>13 observations to process; with 6 unique items.</pre>"
      ],
      "text/plain": [
       "13 observations to process; with 6 unique items."
      ]
     },
     "metadata": {},
     "output_type": "display_data"
    },
    {
     "name": "stdout",
     "output_type": "stream",
     "text": [
      "+-------+--------+--------------------+------+\n",
      "| BarID | BandID |       score        | rank |\n",
      "+-------+--------+--------------------+------+\n",
      "|   0   |   3    |        1.0         |  1   |\n",
      "|   0   |   0    | 0.5833333333333334 |  2   |\n",
      "|   0   |   4    | 0.4444444444444444 |  3   |\n",
      "|   0   |   1    |        0.0         |  4   |\n",
      "|   1   |   3    |        1.0         |  1   |\n",
      "|   1   |   5    |        0.5         |  2   |\n",
      "|   1   |   4    | 0.4444444444444444 |  3   |\n",
      "|   1   |   6    |       0.375        |  4   |\n",
      "|   1   |   1    |        0.0         |  5   |\n",
      "|   2   |   3    |        1.0         |  1   |\n",
      "|   2   |   0    | 0.5833333333333334 |  2   |\n",
      "|   2   |   6    |       0.375        |  3   |\n",
      "|   2   |   1    |        0.0         |  4   |\n",
      "|   3   |   3    |        1.0         |  1   |\n",
      "|   3   |   5    |        0.5         |  2   |\n",
      "+-------+--------+--------------------+------+\n",
      "[23 rows x 4 columns]\n",
      "\n"
     ]
    },
    {
     "data": {
      "text/html": [
       "<div style=\"max-height:1000px;max-width:1500px;overflow:auto;\"><table frame=\"box\" rules=\"cols\">\n",
       "    <tr>\n",
       "        <th style=\"padding-left: 1em; padding-right: 1em; text-align: center\">BarID</th>\n",
       "        <th style=\"padding-left: 1em; padding-right: 1em; text-align: center\">BandID</th>\n",
       "        <th style=\"padding-left: 1em; padding-right: 1em; text-align: center\">score</th>\n",
       "        <th style=\"padding-left: 1em; padding-right: 1em; text-align: center\">rank</th>\n",
       "    </tr>\n",
       "    <tr>\n",
       "        <td style=\"padding-left: 1em; padding-right: 1em; text-align: center; vertical-align: top\">0</td>\n",
       "        <td style=\"padding-left: 1em; padding-right: 1em; text-align: center; vertical-align: top\">3</td>\n",
       "        <td style=\"padding-left: 1em; padding-right: 1em; text-align: center; vertical-align: top\">1.0</td>\n",
       "        <td style=\"padding-left: 1em; padding-right: 1em; text-align: center; vertical-align: top\">1</td>\n",
       "    </tr>\n",
       "    <tr>\n",
       "        <td style=\"padding-left: 1em; padding-right: 1em; text-align: center; vertical-align: top\">0</td>\n",
       "        <td style=\"padding-left: 1em; padding-right: 1em; text-align: center; vertical-align: top\">0</td>\n",
       "        <td style=\"padding-left: 1em; padding-right: 1em; text-align: center; vertical-align: top\">0.5833333333333334</td>\n",
       "        <td style=\"padding-left: 1em; padding-right: 1em; text-align: center; vertical-align: top\">2</td>\n",
       "    </tr>\n",
       "    <tr>\n",
       "        <td style=\"padding-left: 1em; padding-right: 1em; text-align: center; vertical-align: top\">0</td>\n",
       "        <td style=\"padding-left: 1em; padding-right: 1em; text-align: center; vertical-align: top\">4</td>\n",
       "        <td style=\"padding-left: 1em; padding-right: 1em; text-align: center; vertical-align: top\">0.4444444444444444</td>\n",
       "        <td style=\"padding-left: 1em; padding-right: 1em; text-align: center; vertical-align: top\">3</td>\n",
       "    </tr>\n",
       "    <tr>\n",
       "        <td style=\"padding-left: 1em; padding-right: 1em; text-align: center; vertical-align: top\">0</td>\n",
       "        <td style=\"padding-left: 1em; padding-right: 1em; text-align: center; vertical-align: top\">1</td>\n",
       "        <td style=\"padding-left: 1em; padding-right: 1em; text-align: center; vertical-align: top\">0.0</td>\n",
       "        <td style=\"padding-left: 1em; padding-right: 1em; text-align: center; vertical-align: top\">4</td>\n",
       "    </tr>\n",
       "    <tr>\n",
       "        <td style=\"padding-left: 1em; padding-right: 1em; text-align: center; vertical-align: top\">3</td>\n",
       "        <td style=\"padding-left: 1em; padding-right: 1em; text-align: center; vertical-align: top\">3</td>\n",
       "        <td style=\"padding-left: 1em; padding-right: 1em; text-align: center; vertical-align: top\">1.0</td>\n",
       "        <td style=\"padding-left: 1em; padding-right: 1em; text-align: center; vertical-align: top\">1</td>\n",
       "    </tr>\n",
       "    <tr>\n",
       "        <td style=\"padding-left: 1em; padding-right: 1em; text-align: center; vertical-align: top\">3</td>\n",
       "        <td style=\"padding-left: 1em; padding-right: 1em; text-align: center; vertical-align: top\">5</td>\n",
       "        <td style=\"padding-left: 1em; padding-right: 1em; text-align: center; vertical-align: top\">0.5</td>\n",
       "        <td style=\"padding-left: 1em; padding-right: 1em; text-align: center; vertical-align: top\">2</td>\n",
       "    </tr>\n",
       "    <tr>\n",
       "        <td style=\"padding-left: 1em; padding-right: 1em; text-align: center; vertical-align: top\">3</td>\n",
       "        <td style=\"padding-left: 1em; padding-right: 1em; text-align: center; vertical-align: top\">6</td>\n",
       "        <td style=\"padding-left: 1em; padding-right: 1em; text-align: center; vertical-align: top\">0.375</td>\n",
       "        <td style=\"padding-left: 1em; padding-right: 1em; text-align: center; vertical-align: top\">3</td>\n",
       "    </tr>\n",
       "    <tr>\n",
       "        <td style=\"padding-left: 1em; padding-right: 1em; text-align: center; vertical-align: top\">3</td>\n",
       "        <td style=\"padding-left: 1em; padding-right: 1em; text-align: center; vertical-align: top\">1</td>\n",
       "        <td style=\"padding-left: 1em; padding-right: 1em; text-align: center; vertical-align: top\">0.0</td>\n",
       "        <td style=\"padding-left: 1em; padding-right: 1em; text-align: center; vertical-align: top\">4</td>\n",
       "    </tr>\n",
       "    <tr>\n",
       "        <td style=\"padding-left: 1em; padding-right: 1em; text-align: center; vertical-align: top\">4</td>\n",
       "        <td style=\"padding-left: 1em; padding-right: 1em; text-align: center; vertical-align: top\">3</td>\n",
       "        <td style=\"padding-left: 1em; padding-right: 1em; text-align: center; vertical-align: top\">1.0</td>\n",
       "        <td style=\"padding-left: 1em; padding-right: 1em; text-align: center; vertical-align: top\">1</td>\n",
       "    </tr>\n",
       "    <tr>\n",
       "        <td style=\"padding-left: 1em; padding-right: 1em; text-align: center; vertical-align: top\">4</td>\n",
       "        <td style=\"padding-left: 1em; padding-right: 1em; text-align: center; vertical-align: top\">5</td>\n",
       "        <td style=\"padding-left: 1em; padding-right: 1em; text-align: center; vertical-align: top\">0.5</td>\n",
       "        <td style=\"padding-left: 1em; padding-right: 1em; text-align: center; vertical-align: top\">2</td>\n",
       "    </tr>\n",
       "</table>\n",
       "[23 rows x 4 columns]<br/>Note: Only the head of the SFrame is printed.<br/>You can use print_rows(num_rows=m, num_columns=n) to print more rows and columns.\n",
       "</div>"
      ],
      "text/plain": [
       "Columns:\n",
       "\tBarID\tint\n",
       "\tBandID\tint\n",
       "\tscore\tfloat\n",
       "\trank\tint\n",
       "\n",
       "Rows: 23\n",
       "\n",
       "Data:\n",
       "+-------+--------+--------------------+------+\n",
       "| BarID | BandID |       score        | rank |\n",
       "+-------+--------+--------------------+------+\n",
       "|   0   |   3    |        1.0         |  1   |\n",
       "|   0   |   0    | 0.5833333333333334 |  2   |\n",
       "|   0   |   4    | 0.4444444444444444 |  3   |\n",
       "|   0   |   1    |        0.0         |  4   |\n",
       "|   3   |   3    |        1.0         |  1   |\n",
       "|   3   |   5    |        0.5         |  2   |\n",
       "|   3   |   6    |       0.375        |  3   |\n",
       "|   3   |   1    |        0.0         |  4   |\n",
       "|   4   |   3    |        1.0         |  1   |\n",
       "|   4   |   5    |        0.5         |  2   |\n",
       "+-------+--------+--------------------+------+\n",
       "[23 rows x 4 columns]\n",
       "Note: Only the head of the SFrame is printed.\n",
       "You can use print_rows(num_rows=m, num_columns=n) to print more rows and columns."
      ]
     },
     "execution_count": 20,
     "metadata": {},
     "output_type": "execute_result"
    }
   ],
   "source": [
    "data_norm = normalize_data(df_rates)\n",
    "train_data, test_data = split_data(data_norm)\n",
    "\n",
    "popularity_model = modeling(train_data)\n",
    "# cos = modeling(train_data, 'cosine')\n",
    "# pear = modeling(train_data, 'pearson')\n",
    "\n",
    "popularity_model.recommend()"
   ]
  },
  {
   "cell_type": "code",
   "execution_count": 21,
   "metadata": {
    "scrolled": false
   },
   "outputs": [],
   "source": [
    "# models_w_counts = [popularity_model, cos, pear]\n",
    "# names_w_counts = ['Popularity Model on Consert Counts', 'Cosine Similarity on Consert Counts', 'Pearson Similarity on Consert Counts']\n",
    "\n",
    "# eval_counts = tc.recommender.util.compare_models(tc.SFrame(test_data), models_w_counts, model_names=names_w_counts)"
   ]
  },
  {
   "cell_type": "code",
   "execution_count": null,
   "metadata": {},
   "outputs": [],
   "source": []
  }
 ],
 "metadata": {
  "kernelspec": {
   "display_name": "Python 3",
   "language": "python",
   "name": "python3"
  },
  "language_info": {
   "codemirror_mode": {
    "name": "ipython",
    "version": 3
   },
   "file_extension": ".py",
   "mimetype": "text/x-python",
   "name": "python",
   "nbconvert_exporter": "python",
   "pygments_lexer": "ipython3",
   "version": "3.6.7"
  }
 },
 "nbformat": 4,
 "nbformat_minor": 2
}
