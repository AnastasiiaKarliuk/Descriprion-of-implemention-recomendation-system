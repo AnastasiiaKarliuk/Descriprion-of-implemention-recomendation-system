{
 "cells": [
  {
   "cell_type": "code",
   "execution_count": 1,
   "metadata": {},
   "outputs": [],
   "source": [
    "import pandas as pd\n",
    "from sklearn.preprocessing import LabelEncoder\n",
    "from scipy.sparse import coo_matrix\n",
    "from scipy.sparse.linalg import svds\n",
    "from sklearn.neighbors import NearestNeighbors\n",
    "\n",
    "df_rates = pd.read_csv('data/rates.csv')\n",
    "df_bands = pd.read_csv('data/bands.csv')"
   ]
  },
  {
   "cell_type": "code",
   "execution_count": 2,
   "metadata": {},
   "outputs": [],
   "source": [
    "idx = df_bands.BandID.isin(df_rates.BandID)\n",
    "df_bands = df_bands.loc[idx]\n",
    "\n",
    "enc_band = LabelEncoder()\n",
    "enc_bar = LabelEncoder()\n",
    "enc_band = enc_band.fit(df_rates.BandID.values)\n",
    "enc_bar = enc_bar.fit(df_rates.BarID.values)\n",
    "\n",
    "df_rates.BarID = enc_bar.transform(df_rates.BarID.values)\n",
    "df_rates.BandID = enc_band.transform(df_rates.BandID.values)\n",
    "df_bands.BandID = enc_band.transform(df_bands.BandID.values)"
   ]
  },
  {
   "cell_type": "code",
   "execution_count": 3,
   "metadata": {},
   "outputs": [],
   "source": [
    "R = coo_matrix((df_rates.Consert.values, (df_rates.BarID.values, df_rates.BandID.values))).asfptype()  # BAR-BAND-yep-no\n",
    "u, s, vt = svds(R, k=5)  # szatoe priznakovoe prostranstvo\n",
    "\n",
    "k_nn = 5\n",
    "nn = NearestNeighbors(n_neighbors=k_nn)\n",
    "nn.fit(vt.T)\n",
    "_, idn = nn.kneighbors(vt.T, n_neighbors=k_nn)"
   ]
  },
  {
   "cell_type": "code",
   "execution_count": 4,
   "metadata": {},
   "outputs": [],
   "source": [
    "band_titles = df_bands.sort_values('BandID').loc[:, 'Names'].values\n",
    "cols = ['band']+['nn_{}'.format(i) for i in range(1, k_nn)]\n",
    "df_nn = pd.DataFrame(data=band_titles[idn], columns=cols)"
   ]
  },
  {
   "cell_type": "code",
   "execution_count": 5,
   "metadata": {},
   "outputs": [
    {
     "data": {
      "text/html": [
       "<div>\n",
       "<style scoped>\n",
       "    .dataframe tbody tr th:only-of-type {\n",
       "        vertical-align: middle;\n",
       "    }\n",
       "\n",
       "    .dataframe tbody tr th {\n",
       "        vertical-align: top;\n",
       "    }\n",
       "\n",
       "    .dataframe thead th {\n",
       "        text-align: right;\n",
       "    }\n",
       "</style>\n",
       "<table border=\"1\" class=\"dataframe\">\n",
       "  <thead>\n",
       "    <tr style=\"text-align: right;\">\n",
       "      <th></th>\n",
       "      <th>band</th>\n",
       "      <th>nn_1</th>\n",
       "      <th>nn_2</th>\n",
       "      <th>nn_3</th>\n",
       "      <th>nn_4</th>\n",
       "    </tr>\n",
       "  </thead>\n",
       "  <tbody>\n",
       "    <tr>\n",
       "      <th>0</th>\n",
       "      <td>50 Second to Mars</td>\n",
       "      <td>Ariana Grande</td>\n",
       "      <td>Pentatonix</td>\n",
       "      <td>word 9</td>\n",
       "      <td>some word 77</td>\n",
       "    </tr>\n",
       "    <tr>\n",
       "      <th>1</th>\n",
       "      <td>Ariana Grande</td>\n",
       "      <td>50 Second to Mars</td>\n",
       "      <td>Pentatonix</td>\n",
       "      <td>word 9</td>\n",
       "      <td>some word 77</td>\n",
       "    </tr>\n",
       "    <tr>\n",
       "      <th>2</th>\n",
       "      <td>Imagine Dragons</td>\n",
       "      <td>50 Second to Mars</td>\n",
       "      <td>Pentatonix</td>\n",
       "      <td>word 9</td>\n",
       "      <td>Ariana Grande</td>\n",
       "    </tr>\n",
       "    <tr>\n",
       "      <th>3</th>\n",
       "      <td>Antitela</td>\n",
       "      <td>50 Second to Mars</td>\n",
       "      <td>Pentatonix</td>\n",
       "      <td>word 9</td>\n",
       "      <td>Ariana Grande</td>\n",
       "    </tr>\n",
       "    <tr>\n",
       "      <th>4</th>\n",
       "      <td>Pentatonix</td>\n",
       "      <td>word 9</td>\n",
       "      <td>50 Second to Mars</td>\n",
       "      <td>Ariana Grande</td>\n",
       "      <td>Antitela</td>\n",
       "    </tr>\n",
       "    <tr>\n",
       "      <th>5</th>\n",
       "      <td>word 9</td>\n",
       "      <td>Pentatonix</td>\n",
       "      <td>50 Second to Mars</td>\n",
       "      <td>some word 77</td>\n",
       "      <td>Ariana Grande</td>\n",
       "    </tr>\n",
       "    <tr>\n",
       "      <th>6</th>\n",
       "      <td>some word 77</td>\n",
       "      <td>50 Second to Mars</td>\n",
       "      <td>word 9</td>\n",
       "      <td>Ariana Grande</td>\n",
       "      <td>Pentatonix</td>\n",
       "    </tr>\n",
       "  </tbody>\n",
       "</table>\n",
       "</div>"
      ],
      "text/plain": [
       "                band               nn_1               nn_2           nn_3  \\\n",
       "0  50 Second to Mars      Ariana Grande         Pentatonix         word 9   \n",
       "1      Ariana Grande  50 Second to Mars         Pentatonix         word 9   \n",
       "2    Imagine Dragons  50 Second to Mars         Pentatonix         word 9   \n",
       "3           Antitela  50 Second to Mars         Pentatonix         word 9   \n",
       "4         Pentatonix             word 9  50 Second to Mars  Ariana Grande   \n",
       "5             word 9         Pentatonix  50 Second to Mars   some word 77   \n",
       "6       some word 77  50 Second to Mars             word 9  Ariana Grande   \n",
       "\n",
       "            nn_4  \n",
       "0   some word 77  \n",
       "1   some word 77  \n",
       "2  Ariana Grande  \n",
       "3  Ariana Grande  \n",
       "4       Antitela  \n",
       "5  Ariana Grande  \n",
       "6     Pentatonix  "
      ]
     },
     "execution_count": 5,
     "metadata": {},
     "output_type": "execute_result"
    }
   ],
   "source": [
    "df_nn"
   ]
  },
  {
   "cell_type": "markdown",
   "metadata": {},
   "source": [
    "# User-similatity"
   ]
  },
  {
   "cell_type": "code",
   "execution_count": 61,
   "metadata": {},
   "outputs": [],
   "source": [
    "from sklearn.metrics.pairwise import cosine_similarity\n",
    "from scipy.spatial.distance import cosine, pdist, squareform\n",
    "import numpy as np"
   ]
  },
  {
   "cell_type": "code",
   "execution_count": 62,
   "metadata": {},
   "outputs": [
    {
     "data": {
      "text/plain": [
       "array([[0.        , 0.        , 1.        , 0.        , 1.        ,\n",
       "        0.24987802, 1.        ],\n",
       "       [0.        , 0.        , 0.        , 1.        , 1.        ,\n",
       "        0.        , 0.        ],\n",
       "       [1.        , 0.        , 0.        , 1.        , 1.        ,\n",
       "        1.        , 0.        ],\n",
       "       [0.        , 1.        , 1.        , 0.        , 0.90582163,\n",
       "        0.        , 0.        ],\n",
       "       [1.        , 1.        , 1.        , 0.90582163, 0.        ,\n",
       "        1.        , 1.        ],\n",
       "       [0.24987802, 0.        , 1.        , 0.        , 1.        ,\n",
       "        0.        , 1.        ],\n",
       "       [1.        , 0.        , 0.        , 0.        , 1.        ,\n",
       "        1.        , 0.        ]])"
      ]
     },
     "execution_count": 62,
     "metadata": {},
     "output_type": "execute_result"
    }
   ],
   "source": [
    "D = cosine_similarity(R)\n",
    "\n",
    "def similarity(u, v):\n",
    "    idx = (u != 0) & (v != 0)\n",
    "    if np.any(idx):\n",
    "        sim = -cosine(u[idx], v[idx])+1\n",
    "        return sim\n",
    "    else:\n",
    "        return 0\n",
    "    \n",
    "    \n",
    "res = pdist(R.toarray(), similarity)\n",
    "squareform(res)"
   ]
  },
  {
   "cell_type": "markdown",
   "metadata": {},
   "source": [
    "# Turicreate"
   ]
  },
  {
   "cell_type": "code",
   "execution_count": 6,
   "metadata": {},
   "outputs": [
    {
     "data": {
      "text/html": [
       "<div>\n",
       "<style scoped>\n",
       "    .dataframe tbody tr th:only-of-type {\n",
       "        vertical-align: middle;\n",
       "    }\n",
       "\n",
       "    .dataframe tbody tr th {\n",
       "        vertical-align: top;\n",
       "    }\n",
       "\n",
       "    .dataframe thead th {\n",
       "        text-align: right;\n",
       "    }\n",
       "</style>\n",
       "<table border=\"1\" class=\"dataframe\">\n",
       "  <thead>\n",
       "    <tr style=\"text-align: right;\">\n",
       "      <th></th>\n",
       "      <th>BarID</th>\n",
       "      <th>BandID</th>\n",
       "      <th>Consert</th>\n",
       "      <th>conserts_dummy</th>\n",
       "    </tr>\n",
       "  </thead>\n",
       "  <tbody>\n",
       "    <tr>\n",
       "      <th>0</th>\n",
       "      <td>3</td>\n",
       "      <td>1</td>\n",
       "      <td>10</td>\n",
       "      <td>1</td>\n",
       "    </tr>\n",
       "    <tr>\n",
       "      <th>1</th>\n",
       "      <td>3</td>\n",
       "      <td>0</td>\n",
       "      <td>4</td>\n",
       "      <td>1</td>\n",
       "    </tr>\n",
       "    <tr>\n",
       "      <th>2</th>\n",
       "      <td>3</td>\n",
       "      <td>4</td>\n",
       "      <td>1</td>\n",
       "      <td>1</td>\n",
       "    </tr>\n",
       "    <tr>\n",
       "      <th>3</th>\n",
       "      <td>4</td>\n",
       "      <td>6</td>\n",
       "      <td>2</td>\n",
       "      <td>1</td>\n",
       "    </tr>\n",
       "    <tr>\n",
       "      <th>4</th>\n",
       "      <td>4</td>\n",
       "      <td>4</td>\n",
       "      <td>2</td>\n",
       "      <td>1</td>\n",
       "    </tr>\n",
       "    <tr>\n",
       "      <th>5</th>\n",
       "      <td>4</td>\n",
       "      <td>1</td>\n",
       "      <td>5</td>\n",
       "      <td>1</td>\n",
       "    </tr>\n",
       "    <tr>\n",
       "      <th>6</th>\n",
       "      <td>4</td>\n",
       "      <td>0</td>\n",
       "      <td>5</td>\n",
       "      <td>1</td>\n",
       "    </tr>\n",
       "    <tr>\n",
       "      <th>7</th>\n",
       "      <td>2</td>\n",
       "      <td>3</td>\n",
       "      <td>1</td>\n",
       "      <td>1</td>\n",
       "    </tr>\n",
       "    <tr>\n",
       "      <th>8</th>\n",
       "      <td>2</td>\n",
       "      <td>5</td>\n",
       "      <td>3</td>\n",
       "      <td>1</td>\n",
       "    </tr>\n",
       "    <tr>\n",
       "      <th>9</th>\n",
       "      <td>1</td>\n",
       "      <td>0</td>\n",
       "      <td>1</td>\n",
       "      <td>1</td>\n",
       "    </tr>\n",
       "    <tr>\n",
       "      <th>10</th>\n",
       "      <td>1</td>\n",
       "      <td>2</td>\n",
       "      <td>15</td>\n",
       "      <td>1</td>\n",
       "    </tr>\n",
       "    <tr>\n",
       "      <th>11</th>\n",
       "      <td>2</td>\n",
       "      <td>4</td>\n",
       "      <td>4</td>\n",
       "      <td>1</td>\n",
       "    </tr>\n",
       "    <tr>\n",
       "      <th>12</th>\n",
       "      <td>2</td>\n",
       "      <td>5</td>\n",
       "      <td>2</td>\n",
       "      <td>1</td>\n",
       "    </tr>\n",
       "    <tr>\n",
       "      <th>13</th>\n",
       "      <td>5</td>\n",
       "      <td>6</td>\n",
       "      <td>1</td>\n",
       "      <td>1</td>\n",
       "    </tr>\n",
       "    <tr>\n",
       "      <th>14</th>\n",
       "      <td>5</td>\n",
       "      <td>3</td>\n",
       "      <td>7</td>\n",
       "      <td>1</td>\n",
       "    </tr>\n",
       "    <tr>\n",
       "      <th>15</th>\n",
       "      <td>6</td>\n",
       "      <td>6</td>\n",
       "      <td>1</td>\n",
       "      <td>1</td>\n",
       "    </tr>\n",
       "    <tr>\n",
       "      <th>16</th>\n",
       "      <td>0</td>\n",
       "      <td>3</td>\n",
       "      <td>1</td>\n",
       "      <td>1</td>\n",
       "    </tr>\n",
       "    <tr>\n",
       "      <th>17</th>\n",
       "      <td>0</td>\n",
       "      <td>5</td>\n",
       "      <td>5</td>\n",
       "      <td>1</td>\n",
       "    </tr>\n",
       "    <tr>\n",
       "      <th>18</th>\n",
       "      <td>0</td>\n",
       "      <td>6</td>\n",
       "      <td>9</td>\n",
       "      <td>1</td>\n",
       "    </tr>\n",
       "  </tbody>\n",
       "</table>\n",
       "</div>"
      ],
      "text/plain": [
       "    BarID  BandID  Consert  conserts_dummy\n",
       "0       3       1       10               1\n",
       "1       3       0        4               1\n",
       "2       3       4        1               1\n",
       "3       4       6        2               1\n",
       "4       4       4        2               1\n",
       "5       4       1        5               1\n",
       "6       4       0        5               1\n",
       "7       2       3        1               1\n",
       "8       2       5        3               1\n",
       "9       1       0        1               1\n",
       "10      1       2       15               1\n",
       "11      2       4        4               1\n",
       "12      2       5        2               1\n",
       "13      5       6        1               1\n",
       "14      5       3        7               1\n",
       "15      6       6        1               1\n",
       "16      0       3        1               1\n",
       "17      0       5        5               1\n",
       "18      0       6        9               1"
      ]
     },
     "execution_count": 6,
     "metadata": {},
     "output_type": "execute_result"
    }
   ],
   "source": [
    "import turicreate as tc\n",
    "from sklearn.model_selection import train_test_split\n",
    "\n",
    "import sys\n",
    "sys.path.append(\"..\")\n",
    "\n",
    "data = df_rates\n",
    "\n",
    "def create_data_dummy(data):\n",
    "    data_dummy = data.copy()\n",
    "    data_dummy['conserts_dummy'] = 1\n",
    "    return data_dummy\n",
    "\n",
    "data_dummy = create_data_dummy(data)\n",
    "data_dummy"
   ]
  },
  {
   "cell_type": "code",
   "execution_count": 7,
   "metadata": {},
   "outputs": [
    {
     "data": {
      "text/html": [
       "<div>\n",
       "<style scoped>\n",
       "    .dataframe tbody tr th:only-of-type {\n",
       "        vertical-align: middle;\n",
       "    }\n",
       "\n",
       "    .dataframe tbody tr th {\n",
       "        vertical-align: top;\n",
       "    }\n",
       "\n",
       "    .dataframe thead th {\n",
       "        text-align: right;\n",
       "    }\n",
       "</style>\n",
       "<table border=\"1\" class=\"dataframe\">\n",
       "  <thead>\n",
       "    <tr style=\"text-align: right;\">\n",
       "      <th></th>\n",
       "      <th>BarID</th>\n",
       "      <th>BandID</th>\n",
       "      <th>Consert</th>\n",
       "    </tr>\n",
       "  </thead>\n",
       "  <tbody>\n",
       "    <tr>\n",
       "      <th>1</th>\n",
       "      <td>1</td>\n",
       "      <td>0</td>\n",
       "      <td>0.000000</td>\n",
       "    </tr>\n",
       "    <tr>\n",
       "      <th>3</th>\n",
       "      <td>3</td>\n",
       "      <td>0</td>\n",
       "      <td>0.750000</td>\n",
       "    </tr>\n",
       "    <tr>\n",
       "      <th>4</th>\n",
       "      <td>4</td>\n",
       "      <td>0</td>\n",
       "      <td>1.000000</td>\n",
       "    </tr>\n",
       "    <tr>\n",
       "      <th>10</th>\n",
       "      <td>3</td>\n",
       "      <td>1</td>\n",
       "      <td>1.000000</td>\n",
       "    </tr>\n",
       "    <tr>\n",
       "      <th>11</th>\n",
       "      <td>4</td>\n",
       "      <td>1</td>\n",
       "      <td>0.000000</td>\n",
       "    </tr>\n",
       "    <tr>\n",
       "      <th>21</th>\n",
       "      <td>0</td>\n",
       "      <td>3</td>\n",
       "      <td>0.000000</td>\n",
       "    </tr>\n",
       "    <tr>\n",
       "      <th>23</th>\n",
       "      <td>2</td>\n",
       "      <td>3</td>\n",
       "      <td>0.000000</td>\n",
       "    </tr>\n",
       "    <tr>\n",
       "      <th>26</th>\n",
       "      <td>5</td>\n",
       "      <td>3</td>\n",
       "      <td>1.000000</td>\n",
       "    </tr>\n",
       "    <tr>\n",
       "      <th>30</th>\n",
       "      <td>2</td>\n",
       "      <td>4</td>\n",
       "      <td>1.000000</td>\n",
       "    </tr>\n",
       "    <tr>\n",
       "      <th>31</th>\n",
       "      <td>3</td>\n",
       "      <td>4</td>\n",
       "      <td>0.000000</td>\n",
       "    </tr>\n",
       "    <tr>\n",
       "      <th>32</th>\n",
       "      <td>4</td>\n",
       "      <td>4</td>\n",
       "      <td>0.333333</td>\n",
       "    </tr>\n",
       "    <tr>\n",
       "      <th>35</th>\n",
       "      <td>0</td>\n",
       "      <td>5</td>\n",
       "      <td>1.000000</td>\n",
       "    </tr>\n",
       "    <tr>\n",
       "      <th>37</th>\n",
       "      <td>2</td>\n",
       "      <td>5</td>\n",
       "      <td>0.000000</td>\n",
       "    </tr>\n",
       "    <tr>\n",
       "      <th>42</th>\n",
       "      <td>0</td>\n",
       "      <td>6</td>\n",
       "      <td>1.000000</td>\n",
       "    </tr>\n",
       "    <tr>\n",
       "      <th>46</th>\n",
       "      <td>4</td>\n",
       "      <td>6</td>\n",
       "      <td>0.125000</td>\n",
       "    </tr>\n",
       "    <tr>\n",
       "      <th>47</th>\n",
       "      <td>5</td>\n",
       "      <td>6</td>\n",
       "      <td>0.000000</td>\n",
       "    </tr>\n",
       "    <tr>\n",
       "      <th>48</th>\n",
       "      <td>6</td>\n",
       "      <td>6</td>\n",
       "      <td>0.000000</td>\n",
       "    </tr>\n",
       "  </tbody>\n",
       "</table>\n",
       "</div>"
      ],
      "text/plain": [
       "    BarID BandID   Consert\n",
       "1       1      0  0.000000\n",
       "3       3      0  0.750000\n",
       "4       4      0  1.000000\n",
       "10      3      1  1.000000\n",
       "11      4      1  0.000000\n",
       "21      0      3  0.000000\n",
       "23      2      3  0.000000\n",
       "26      5      3  1.000000\n",
       "30      2      4  1.000000\n",
       "31      3      4  0.000000\n",
       "32      4      4  0.333333\n",
       "35      0      5  1.000000\n",
       "37      2      5  0.000000\n",
       "42      0      6  1.000000\n",
       "46      4      6  0.125000\n",
       "47      5      6  0.000000\n",
       "48      6      6  0.000000"
      ]
     },
     "execution_count": 7,
     "metadata": {},
     "output_type": "execute_result"
    }
   ],
   "source": [
    "def normalize_data(data):\n",
    "    df_matrix = pd.pivot_table(data, values='Consert', index='BarID', columns='BandID')\n",
    "    df_matrix_norm = (df_matrix-df_matrix.min())/(df_matrix.max()-df_matrix.min())\n",
    "    d = df_matrix_norm.reset_index() \n",
    "    d.index.names = ['Consert'] \n",
    "    data_norm = pd.melt(d, id_vars=['BarID'], value_name='Consert').dropna()\n",
    "    return data_norm\n",
    "\n",
    "data_norm = normalize_data(data)\n",
    "data_norm"
   ]
  },
  {
   "cell_type": "code",
   "execution_count": 14,
   "metadata": {},
   "outputs": [],
   "source": [
    "def split_data(data):\n",
    "    train, test = train_test_split(data, test_size = .2)\n",
    "    train_data = tc.SFrame(train)\n",
    "    test_data = tc.SFrame(test)\n",
    "    return train_data, test_data\n",
    "\n",
    "train_data, test_data = split_data(data)\n",
    "train_data_dummy, test_data_dummy = split_data(data_dummy)\n",
    "train_data_norm, test_data_norm = split_data(data_norm)"
   ]
  },
  {
   "cell_type": "code",
   "execution_count": 15,
   "metadata": {},
   "outputs": [],
   "source": [
    "users_to_recommend = list(set(data['BarID']))\n",
    "n_rec = 5  # number of items to recommend\n",
    "n_display = 10  # to display the first few rows in an output dataset"
   ]
  },
  {
   "cell_type": "code",
   "execution_count": 16,
   "metadata": {},
   "outputs": [],
   "source": [
    "def model(train_data, name, user_id, item_id, target, users_to_recommend, n_rec, n_display):\n",
    "    if name == 'popularity':\n",
    "        model = tc.popularity_recommender.create(train_data, user_id=user_id, item_id=item_id, target=target)\n",
    "        \n",
    "    elif name == 'cosine':\n",
    "        model = tc.item_similarity_recommender.create(train_data, user_id=user_id, item_id=item_id, target=target, \n",
    "                                                      similarity_type='cosine')\n",
    "    elif name == 'pearson':\n",
    "        model = tc.item_similarity_recommender.create(train_data, user_id=user_id, item_id=item_id, target=target, \n",
    "                                                    similarity_type='pearson')\n",
    "    recom = model.recommend(users=users_to_recommend, k=n_rec)\n",
    "    recom.print_rows(n_display)\n",
    "    return model"
   ]
  },
  {
   "cell_type": "code",
   "execution_count": 17,
   "metadata": {},
   "outputs": [
    {
     "data": {
      "text/html": [
       "<pre>Preparing data set.</pre>"
      ],
      "text/plain": [
       "Preparing data set."
      ]
     },
     "metadata": {},
     "output_type": "display_data"
    },
    {
     "data": {
      "text/html": [
       "<pre>    Data has 13 observations with 5 users and 6 items.</pre>"
      ],
      "text/plain": [
       "    Data has 13 observations with 5 users and 6 items."
      ]
     },
     "metadata": {},
     "output_type": "display_data"
    },
    {
     "data": {
      "text/html": [
       "<pre>    Data prepared in: 0.005625s</pre>"
      ],
      "text/plain": [
       "    Data prepared in: 0.005625s"
      ]
     },
     "metadata": {},
     "output_type": "display_data"
    },
    {
     "data": {
      "text/html": [
       "<pre>13 observations to process; with 6 unique items.</pre>"
      ],
      "text/plain": [
       "13 observations to process; with 6 unique items."
      ]
     },
     "metadata": {},
     "output_type": "display_data"
    },
    {
     "name": "stdout",
     "output_type": "stream",
     "text": [
      "+-------+--------+--------------------+------+\n",
      "| BarID | BandID |       score        | rank |\n",
      "+-------+--------+--------------------+------+\n",
      "|   0   |   1    |        1.0         |  1   |\n",
      "|   0   |   0    |        0.75        |  2   |\n",
      "|   0   |   4    | 0.4444444444444444 |  3   |\n",
      "|   1   |   1    |        1.0         |  1   |\n",
      "|   1   |   0    |        0.75        |  2   |\n",
      "|   1   |   5    |        0.5         |  3   |\n",
      "|   1   |   4    | 0.4444444444444444 |  4   |\n",
      "|   1   |   6    |       0.375        |  5   |\n",
      "|   2   |   1    |        1.0         |  1   |\n",
      "|   2   |   0    |        0.75        |  2   |\n",
      "+-------+--------+--------------------+------+\n",
      "[27 rows x 4 columns]\n",
      "\n"
     ]
    }
   ],
   "source": [
    "popularity_model = model(train_data_norm, 'popularity', 'BarID', 'BandID', 'Consert', users_to_recommend, n_rec, n_display)"
   ]
  },
  {
   "cell_type": "code",
   "execution_count": 20,
   "metadata": {},
   "outputs": [
    {
     "data": {
      "text/html": [
       "<pre>Preparing data set.</pre>"
      ],
      "text/plain": [
       "Preparing data set."
      ]
     },
     "metadata": {},
     "output_type": "display_data"
    },
    {
     "data": {
      "text/html": [
       "<pre>    Data has 15 observations with 7 users and 7 items.</pre>"
      ],
      "text/plain": [
       "    Data has 15 observations with 7 users and 7 items."
      ]
     },
     "metadata": {},
     "output_type": "display_data"
    },
    {
     "data": {
      "text/html": [
       "<pre>    Data prepared in: 0.007445s</pre>"
      ],
      "text/plain": [
       "    Data prepared in: 0.007445s"
      ]
     },
     "metadata": {},
     "output_type": "display_data"
    },
    {
     "data": {
      "text/html": [
       "<pre>Training model from provided data.</pre>"
      ],
      "text/plain": [
       "Training model from provided data."
      ]
     },
     "metadata": {},
     "output_type": "display_data"
    },
    {
     "data": {
      "text/html": [
       "<pre>Gathering per-item and per-user statistics.</pre>"
      ],
      "text/plain": [
       "Gathering per-item and per-user statistics."
      ]
     },
     "metadata": {},
     "output_type": "display_data"
    },
    {
     "data": {
      "text/html": [
       "<pre>+--------------------------------+------------+</pre>"
      ],
      "text/plain": [
       "+--------------------------------+------------+"
      ]
     },
     "metadata": {},
     "output_type": "display_data"
    },
    {
     "data": {
      "text/html": [
       "<pre>| Elapsed Time (Item Statistics) | % Complete |</pre>"
      ],
      "text/plain": [
       "| Elapsed Time (Item Statistics) | % Complete |"
      ]
     },
     "metadata": {},
     "output_type": "display_data"
    },
    {
     "data": {
      "text/html": [
       "<pre>+--------------------------------+------------+</pre>"
      ],
      "text/plain": [
       "+--------------------------------+------------+"
      ]
     },
     "metadata": {},
     "output_type": "display_data"
    },
    {
     "data": {
      "text/html": [
       "<pre>| 513us                          | 100        |</pre>"
      ],
      "text/plain": [
       "| 513us                          | 100        |"
      ]
     },
     "metadata": {},
     "output_type": "display_data"
    },
    {
     "name": "stdout",
     "output_type": "stream",
     "text": [
      "+-------+--------+---------------------+------+\n",
      "| BarID | BandID |        score        | rank |\n",
      "+-------+--------+---------------------+------+\n",
      "|   0   |   0    |  0.4962916374206543 |  1   |\n",
      "|   0   |   4    |  0.2876780033111572 |  2   |\n",
      "|   0   |   1    |  0.2876780033111572 |  3   |\n",
      "|   0   |   2    |         0.0         |  4   |\n",
      "|   1   |   1    | 0.44854262471199036 |  1   |\n",
      "|   1   |   4    |  0.1725163757801056 |  2   |\n",
      "|   1   |   6    | 0.08271527290344238 |  3   |\n",
      "|   1   |   3    |         0.0         |  4   |\n",
      "|   1   |   5    |         0.0         |  5   |\n",
      "|   2   |   0    |  1.3801310062408447 |  1   |\n",
      "+-------+--------+---------------------+------+\n",
      "[32 rows x 4 columns]\n",
      "\n"
     ]
    },
    {
     "data": {
      "text/html": [
       "<pre>+--------------------------------+------------+</pre>"
      ],
      "text/plain": [
       "+--------------------------------+------------+"
      ]
     },
     "metadata": {},
     "output_type": "display_data"
    },
    {
     "data": {
      "text/html": [
       "<pre>Setting up lookup tables.</pre>"
      ],
      "text/plain": [
       "Setting up lookup tables."
      ]
     },
     "metadata": {},
     "output_type": "display_data"
    },
    {
     "data": {
      "text/html": [
       "<pre>Processing data in one pass using dense lookup tables.</pre>"
      ],
      "text/plain": [
       "Processing data in one pass using dense lookup tables."
      ]
     },
     "metadata": {},
     "output_type": "display_data"
    },
    {
     "data": {
      "text/html": [
       "<pre>+-------------------------------------+------------------+-----------------+</pre>"
      ],
      "text/plain": [
       "+-------------------------------------+------------------+-----------------+"
      ]
     },
     "metadata": {},
     "output_type": "display_data"
    },
    {
     "data": {
      "text/html": [
       "<pre>| Elapsed Time (Constructing Lookups) | Total % Complete | Items Processed |</pre>"
      ],
      "text/plain": [
       "| Elapsed Time (Constructing Lookups) | Total % Complete | Items Processed |"
      ]
     },
     "metadata": {},
     "output_type": "display_data"
    },
    {
     "data": {
      "text/html": [
       "<pre>+-------------------------------------+------------------+-----------------+</pre>"
      ],
      "text/plain": [
       "+-------------------------------------+------------------+-----------------+"
      ]
     },
     "metadata": {},
     "output_type": "display_data"
    },
    {
     "data": {
      "text/html": [
       "<pre>| 1.055ms                             | 40.75            | 2               |</pre>"
      ],
      "text/plain": [
       "| 1.055ms                             | 40.75            | 2               |"
      ]
     },
     "metadata": {},
     "output_type": "display_data"
    },
    {
     "data": {
      "text/html": [
       "<pre>| 4.996ms                             | 100              | 7               |</pre>"
      ],
      "text/plain": [
       "| 4.996ms                             | 100              | 7               |"
      ]
     },
     "metadata": {},
     "output_type": "display_data"
    },
    {
     "data": {
      "text/html": [
       "<pre>+-------------------------------------+------------------+-----------------+</pre>"
      ],
      "text/plain": [
       "+-------------------------------------+------------------+-----------------+"
      ]
     },
     "metadata": {},
     "output_type": "display_data"
    },
    {
     "data": {
      "text/html": [
       "<pre>Finalizing lookup tables.</pre>"
      ],
      "text/plain": [
       "Finalizing lookup tables."
      ]
     },
     "metadata": {},
     "output_type": "display_data"
    },
    {
     "data": {
      "text/html": [
       "<pre>Generating candidate set for working with new users.</pre>"
      ],
      "text/plain": [
       "Generating candidate set for working with new users."
      ]
     },
     "metadata": {},
     "output_type": "display_data"
    },
    {
     "data": {
      "text/html": [
       "<pre>Finished training in 1.00915s</pre>"
      ],
      "text/plain": [
       "Finished training in 1.00915s"
      ]
     },
     "metadata": {},
     "output_type": "display_data"
    }
   ],
   "source": [
    "name = 'cosine'\n",
    "cos = model(train_data, name, 'BarID', 'BandID', 'Consert', users_to_recommend, n_rec, n_display)"
   ]
  },
  {
   "cell_type": "code",
   "execution_count": 21,
   "metadata": {},
   "outputs": [
    {
     "data": {
      "text/html": [
       "<pre>Preparing data set.</pre>"
      ],
      "text/plain": [
       "Preparing data set."
      ]
     },
     "metadata": {},
     "output_type": "display_data"
    },
    {
     "data": {
      "text/html": [
       "<pre>    Data has 15 observations with 7 users and 7 items.</pre>"
      ],
      "text/plain": [
       "    Data has 15 observations with 7 users and 7 items."
      ]
     },
     "metadata": {},
     "output_type": "display_data"
    },
    {
     "data": {
      "text/html": [
       "<pre>    Data prepared in: 0.009615s</pre>"
      ],
      "text/plain": [
       "    Data prepared in: 0.009615s"
      ]
     },
     "metadata": {},
     "output_type": "display_data"
    },
    {
     "data": {
      "text/html": [
       "<pre>Training model from provided data.</pre>"
      ],
      "text/plain": [
       "Training model from provided data."
      ]
     },
     "metadata": {},
     "output_type": "display_data"
    },
    {
     "data": {
      "text/html": [
       "<pre>Gathering per-item and per-user statistics.</pre>"
      ],
      "text/plain": [
       "Gathering per-item and per-user statistics."
      ]
     },
     "metadata": {},
     "output_type": "display_data"
    },
    {
     "data": {
      "text/html": [
       "<pre>+--------------------------------+------------+</pre>"
      ],
      "text/plain": [
       "+--------------------------------+------------+"
      ]
     },
     "metadata": {},
     "output_type": "display_data"
    },
    {
     "name": "stdout",
     "output_type": "stream",
     "text": [
      "+-------+--------+--------------------+------+\n",
      "| BarID | BandID |       score        | rank |\n",
      "+-------+--------+--------------------+------+\n",
      "|   0   |   2    |        15.0        |  1   |\n",
      "|   0   |   1    | 7.6550817886988325 |  2   |\n",
      "|   0   |   0    | 3.3333333333333335 |  3   |\n",
      "|   0   |   4    | 3.155081788698832  |  4   |\n",
      "|   1   |   1    | 7.355531556265695  |  1   |\n",
      "|   1   |   5    |        5.0         |  2   |\n",
      "|   1   |   3    |        4.0         |  3   |\n",
      "|   1   |   6    | 3.132966237408774  |  4   |\n",
      "|   1   |   4    | 2.708210127694266  |  5   |\n",
      "|   2   |   2    |        15.0        |  1   |\n",
      "+-------+--------+--------------------+------+\n",
      "[32 rows x 4 columns]\n",
      "\n"
     ]
    },
    {
     "data": {
      "text/html": [
       "<pre>| Elapsed Time (Item Statistics) | % Complete |</pre>"
      ],
      "text/plain": [
       "| Elapsed Time (Item Statistics) | % Complete |"
      ]
     },
     "metadata": {},
     "output_type": "display_data"
    },
    {
     "data": {
      "text/html": [
       "<pre>+--------------------------------+------------+</pre>"
      ],
      "text/plain": [
       "+--------------------------------+------------+"
      ]
     },
     "metadata": {},
     "output_type": "display_data"
    },
    {
     "data": {
      "text/html": [
       "<pre>| 996us                          | 100        |</pre>"
      ],
      "text/plain": [
       "| 996us                          | 100        |"
      ]
     },
     "metadata": {},
     "output_type": "display_data"
    },
    {
     "data": {
      "text/html": [
       "<pre>+--------------------------------+------------+</pre>"
      ],
      "text/plain": [
       "+--------------------------------+------------+"
      ]
     },
     "metadata": {},
     "output_type": "display_data"
    },
    {
     "data": {
      "text/html": [
       "<pre>Setting up lookup tables.</pre>"
      ],
      "text/plain": [
       "Setting up lookup tables."
      ]
     },
     "metadata": {},
     "output_type": "display_data"
    },
    {
     "data": {
      "text/html": [
       "<pre>Processing data in one pass using dense lookup tables.</pre>"
      ],
      "text/plain": [
       "Processing data in one pass using dense lookup tables."
      ]
     },
     "metadata": {},
     "output_type": "display_data"
    },
    {
     "data": {
      "text/html": [
       "<pre>+-------------------------------------+------------------+-----------------+</pre>"
      ],
      "text/plain": [
       "+-------------------------------------+------------------+-----------------+"
      ]
     },
     "metadata": {},
     "output_type": "display_data"
    },
    {
     "data": {
      "text/html": [
       "<pre>| Elapsed Time (Constructing Lookups) | Total % Complete | Items Processed |</pre>"
      ],
      "text/plain": [
       "| Elapsed Time (Constructing Lookups) | Total % Complete | Items Processed |"
      ]
     },
     "metadata": {},
     "output_type": "display_data"
    },
    {
     "data": {
      "text/html": [
       "<pre>+-------------------------------------+------------------+-----------------+</pre>"
      ],
      "text/plain": [
       "+-------------------------------------+------------------+-----------------+"
      ]
     },
     "metadata": {},
     "output_type": "display_data"
    },
    {
     "data": {
      "text/html": [
       "<pre>| 1.237ms                             | 40.75            | 2               |</pre>"
      ],
      "text/plain": [
       "| 1.237ms                             | 40.75            | 2               |"
      ]
     },
     "metadata": {},
     "output_type": "display_data"
    },
    {
     "data": {
      "text/html": [
       "<pre>| 1.605ms                             | 100              | 7               |</pre>"
      ],
      "text/plain": [
       "| 1.605ms                             | 100              | 7               |"
      ]
     },
     "metadata": {},
     "output_type": "display_data"
    },
    {
     "data": {
      "text/html": [
       "<pre>+-------------------------------------+------------------+-----------------+</pre>"
      ],
      "text/plain": [
       "+-------------------------------------+------------------+-----------------+"
      ]
     },
     "metadata": {},
     "output_type": "display_data"
    },
    {
     "data": {
      "text/html": [
       "<pre>Finalizing lookup tables.</pre>"
      ],
      "text/plain": [
       "Finalizing lookup tables."
      ]
     },
     "metadata": {},
     "output_type": "display_data"
    },
    {
     "data": {
      "text/html": [
       "<pre>Generating candidate set for working with new users.</pre>"
      ],
      "text/plain": [
       "Generating candidate set for working with new users."
      ]
     },
     "metadata": {},
     "output_type": "display_data"
    },
    {
     "data": {
      "text/html": [
       "<pre>Finished training in 0.002394s</pre>"
      ],
      "text/plain": [
       "Finished training in 0.002394s"
      ]
     },
     "metadata": {},
     "output_type": "display_data"
    }
   ],
   "source": [
    "name = 'pearson'\n",
    "pear = model(train_data, name, 'BarID', 'BandID', 'Consert', users_to_recommend, n_rec, n_display)"
   ]
  },
  {
   "cell_type": "code",
   "execution_count": 22,
   "metadata": {},
   "outputs": [],
   "source": [
    "models_w_counts = [popularity_model, cos, pear]\n",
    "\n",
    "names_w_counts = ['Popularity Model on Consert Counts', 'Cosine Similarity on Consert Counts', 'Pearson Similarity on Consert Counts']"
   ]
  },
  {
   "cell_type": "code",
   "execution_count": 23,
   "metadata": {
    "scrolled": false
   },
   "outputs": [
    {
     "name": "stdout",
     "output_type": "stream",
     "text": [
      "PROGRESS: Evaluate model Popularity Model on Consert Counts\n",
      "\n",
      "Precision and recall summary statistics by cutoff\n",
      "+--------+----------------+-------------+\n",
      "| cutoff | mean_precision | mean_recall |\n",
      "+--------+----------------+-------------+\n",
      "|   1    |      0.0       |     0.0     |\n",
      "|   2    |      0.0       |     0.0     |\n",
      "|   3    |      0.0       |     0.0     |\n",
      "|   4    |      0.0       |     0.0     |\n",
      "|   5    |      0.0       |     0.0     |\n",
      "|   6    |      0.0       |     0.0     |\n",
      "|   7    |      0.0       |     0.0     |\n",
      "|   8    |      0.0       |     0.0     |\n",
      "|   9    |      0.0       |     0.0     |\n",
      "|   10   |      0.0       |     0.0     |\n",
      "+--------+----------------+-------------+\n",
      "[10 rows x 3 columns]\n",
      "\n",
      "\n",
      "Overall RMSE: 1.5209443135559801\n",
      "\n",
      "Per User RMSE (best)\n",
      "+-------+--------------------+-------+\n",
      "| BarID |        rmse        | count |\n",
      "+-------+--------------------+-------+\n",
      "|   3   | 0.5555555555555556 |   1   |\n",
      "+-------+--------------------+-------+\n",
      "[1 rows x 3 columns]\n",
      "\n",
      "\n",
      "Per User RMSE (worst)\n",
      "+-------+--------------------+-------+\n",
      "| BarID |        rmse        | count |\n",
      "+-------+--------------------+-------+\n",
      "|   2   | 1.7266966964355617 |   3   |\n",
      "+-------+--------------------+-------+\n",
      "[1 rows x 3 columns]\n",
      "\n",
      "\n",
      "Per Item RMSE (best)\n",
      "+--------+--------------------+-------+\n",
      "| BandID |        rmse        | count |\n",
      "+--------+--------------------+-------+\n",
      "|   4    | 0.5555555555555556 |   1   |\n",
      "+--------+--------------------+-------+\n",
      "[1 rows x 3 columns]\n",
      "\n",
      "\n",
      "Per Item RMSE (worst)\n",
      "+--------+--------------------+-------+\n",
      "| BandID |        rmse        | count |\n",
      "+--------+--------------------+-------+\n",
      "|   5    | 2.0615528128088303 |   2   |\n",
      "+--------+--------------------+-------+\n",
      "[1 rows x 3 columns]\n",
      "\n",
      "PROGRESS: Evaluate model Cosine Similarity on Consert Counts\n",
      "\n",
      "Precision and recall summary statistics by cutoff\n",
      "+--------+---------------------+--------------------+\n",
      "| cutoff |    mean_precision   |    mean_recall     |\n",
      "+--------+---------------------+--------------------+\n",
      "|   1    |         0.5         |        0.5         |\n",
      "|   2    |         0.25        |        0.5         |\n",
      "|   3    | 0.16666666666666666 |        0.5         |\n",
      "|   4    |         0.25        | 0.6666666666666667 |\n",
      "|   5    |         0.2         | 0.6666666666666667 |\n",
      "|   6    | 0.26666666666666666 | 0.8333333333333333 |\n",
      "|   7    | 0.26666666666666666 | 0.8333333333333333 |\n",
      "|   8    | 0.26666666666666666 | 0.8333333333333333 |\n",
      "|   9    | 0.26666666666666666 | 0.8333333333333333 |\n",
      "|   10   | 0.26666666666666666 | 0.8333333333333333 |\n",
      "+--------+---------------------+--------------------+\n",
      "[10 rows x 3 columns]\n",
      "\n",
      "\n",
      "Overall RMSE: 1.9023794519190056\n",
      "\n",
      "Per User RMSE (best)\n",
      "+-------+--------------------+-------+\n",
      "| BarID |        rmse        | count |\n",
      "+-------+--------------------+-------+\n",
      "|   3   | 0.6900654435157776 |   1   |\n",
      "+-------+--------------------+-------+\n",
      "[1 rows x 3 columns]\n",
      "\n",
      "\n",
      "Per User RMSE (worst)\n",
      "+-------+--------------------+-------+\n",
      "| BarID |        rmse        | count |\n",
      "+-------+--------------------+-------+\n",
      "|   2   | 2.1602468994692865 |   3   |\n",
      "+-------+--------------------+-------+\n",
      "[1 rows x 3 columns]\n",
      "\n",
      "\n",
      "Per Item RMSE (best)\n",
      "+--------+--------------------+-------+\n",
      "| BandID |        rmse        | count |\n",
      "+--------+--------------------+-------+\n",
      "|   4    | 0.6900654435157776 |   1   |\n",
      "+--------+--------------------+-------+\n",
      "[1 rows x 3 columns]\n",
      "\n",
      "\n",
      "Per Item RMSE (worst)\n",
      "+--------+--------------------+-------+\n",
      "| BandID |        rmse        | count |\n",
      "+--------+--------------------+-------+\n",
      "|   5    | 2.5495097567963922 |   2   |\n",
      "+--------+--------------------+-------+\n",
      "[1 rows x 3 columns]\n",
      "\n",
      "PROGRESS: Evaluate model Pearson Similarity on Consert Counts\n",
      "\n",
      "Precision and recall summary statistics by cutoff\n",
      "+--------+---------------------+---------------------+\n",
      "| cutoff |    mean_precision   |     mean_recall     |\n",
      "+--------+---------------------+---------------------+\n",
      "|   1    |         0.0         |         0.0         |\n",
      "|   2    |         0.0         |         0.0         |\n",
      "|   3    | 0.16666666666666666 | 0.16666666666666666 |\n",
      "|   4    |         0.25        |  0.3333333333333333 |\n",
      "|   5    | 0.30000000000000004 |  0.8333333333333333 |\n",
      "|   6    | 0.26666666666666666 |  0.8333333333333333 |\n",
      "|   7    | 0.26666666666666666 |  0.8333333333333333 |\n",
      "|   8    | 0.26666666666666666 |  0.8333333333333333 |\n",
      "|   9    | 0.26666666666666666 |  0.8333333333333333 |\n",
      "|   10   | 0.26666666666666666 |  0.8333333333333333 |\n",
      "+--------+---------------------+---------------------+\n",
      "[10 rows x 3 columns]\n",
      "\n",
      "\n",
      "Overall RMSE: 2.6147493307198686\n",
      "\n",
      "Per User RMSE (best)\n",
      "+-------+--------+-------+\n",
      "| BarID |  rmse  | count |\n",
      "+-------+--------+-------+\n",
      "|   3   | 2.3125 |   1   |\n",
      "+-------+--------+-------+\n",
      "[1 rows x 3 columns]\n",
      "\n",
      "\n",
      "Per User RMSE (worst)\n",
      "+-------+------------------+-------+\n",
      "| BarID |       rmse       | count |\n",
      "+-------+------------------+-------+\n",
      "|   2   | 2.70801280154532 |   3   |\n",
      "+-------+------------------+-------+\n",
      "[1 rows x 3 columns]\n",
      "\n",
      "\n",
      "Per Item RMSE (best)\n",
      "+--------+--------+-------+\n",
      "| BandID |  rmse  | count |\n",
      "+--------+--------+-------+\n",
      "|   4    | 2.3125 |   1   |\n",
      "+--------+--------+-------+\n",
      "[1 rows x 3 columns]\n",
      "\n",
      "\n",
      "Per Item RMSE (worst)\n",
      "+--------+------+-------+\n",
      "| BandID | rmse | count |\n",
      "+--------+------+-------+\n",
      "|   3    | 3.0  |   1   |\n",
      "+--------+------+-------+\n",
      "[1 rows x 3 columns]\n",
      "\n"
     ]
    }
   ],
   "source": [
    "eval_counts = tc.recommender.util.compare_models(test_data, models_w_counts, model_names=names_w_counts)"
   ]
  },
  {
   "cell_type": "code",
   "execution_count": null,
   "metadata": {},
   "outputs": [],
   "source": []
  }
 ],
 "metadata": {
  "kernelspec": {
   "display_name": "Python 3",
   "language": "python",
   "name": "python3"
  },
  "language_info": {
   "codemirror_mode": {
    "name": "ipython",
    "version": 3
   },
   "file_extension": ".py",
   "mimetype": "text/x-python",
   "name": "python",
   "nbconvert_exporter": "python",
   "pygments_lexer": "ipython3",
   "version": "3.6.7"
  }
 },
 "nbformat": 4,
 "nbformat_minor": 2
}
